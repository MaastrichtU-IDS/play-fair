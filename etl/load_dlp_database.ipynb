{
 "cells": [
  {
   "cell_type": "code",
   "execution_count": 4,
   "id": "c6a0d69d-54db-44fe-a4ba-3ce2b45367d5",
   "metadata": {},
   "outputs": [
    {
     "name": "stdout",
     "output_type": "stream",
     "text": [
      "Connected to MySQL Server version  5.5.5-10.3.17-MariaDB\n",
      "You're connected to database:  ('dlp_database',)\n"
     ]
    }
   ],
   "source": [
    "# Module Imports\n",
    "import mysql.connector as mysql\n",
    "import sys\n",
    "\n",
    "# mysql.\n",
    "\n",
    "# Connect to MariaDB Platform\n",
    "try:\n",
    "    conn = mysql.connect(\n",
    "        user=\"mariadb\",\n",
    "        password=\"ludiluda\",\n",
    "        host='mariadb',\n",
    "        port=3306,\n",
    "        database=\"dlp_database\"\n",
    "    )\n",
    "except:\n",
    "    print(f\"Error connecting to MariaDB database\")\n",
    "    sys.exit(1)\n",
    "\n",
    "if conn.is_connected():\n",
    "    db_Info = conn.get_server_info()\n",
    "    print(\"Connected to \", db_Info)\n",
    "    cursor = conn.cursor()\n",
    "    cursor.execute(\"select database();\")\n",
    "    record = cursor.fetchone()\n",
    "    print(\"You're connected to database: \", record)\n",
    "    \n",
    "# Get Cursor\n",
    "cur = conn.cursor()"
   ]
  },
  {
   "cell_type": "code",
   "execution_count": null,
   "id": "3826e17d-e950-4480-8f98-ce5df9cfa24d",
   "metadata": {},
   "outputs": [],
   "source": []
  }
 ],
 "metadata": {
  "kernelspec": {
   "display_name": "Python 3 (ipykernel)",
   "language": "python",
   "name": "python3"
  },
  "language_info": {
   "codemirror_mode": {
    "name": "ipython",
    "version": 3
   },
   "file_extension": ".py",
   "mimetype": "text/x-python",
   "name": "python",
   "nbconvert_exporter": "python",
   "pygments_lexer": "ipython3",
   "version": "3.9.5"
  }
 },
 "nbformat": 4,
 "nbformat_minor": 5
}
