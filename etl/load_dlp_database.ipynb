{
 "cells": [
  {
   "cell_type": "code",
   "execution_count": 3,
   "source": [
    "# Module Imports\r\n",
    "import mysql.connector as mysql\r\n",
    "import sys\r\n",
    "# Connect to MariaDB Platform\r\n",
    "try:\r\n",
    "    conn = mysql.connect(\r\n",
    "        user=\"mariadb\",\r\n",
    "        password=\"ludiluda\",\r\n",
    "        host='mariadb',\r\n",
    "        port=3306,\r\n",
    "        database=\"ludiiGames\"\r\n",
    "    )\r\n",
    "except:\r\n",
    "    print(f\"Error connecting to MariaDB database\")\r\n",
    "    sys.exit(1)\r\n",
    "\r\n",
    "if conn.is_connected():\r\n",
    "    db_Info = conn.get_server_info()\r\n",
    "    print(\"Connected to \", db_Info)\r\n",
    "    cursor = conn.cursor()\r\n",
    "    cursor.execute(\"select database();\")\r\n",
    "    record = cursor.fetchone()\r\n",
    "    print(\"You're connected to the database: \", record)\r\n",
    "    \r\n",
    "# Get Cursor\r\n",
    "cursor = conn.cursor()"
   ],
   "outputs": [
    {
     "output_type": "stream",
     "name": "stdout",
     "text": [
      "Requirement already satisfied: mysql in c:\\users\\p70069673\\appdata\\local\\programs\\python\\python39\\lib\\site-packages (0.0.3)\n",
      "Requirement already satisfied: mysqlclient in c:\\users\\p70069673\\appdata\\local\\programs\\python\\python39\\lib\\site-packages (from mysql) (2.0.3)\n"
     ]
    },
    {
     "output_type": "error",
     "ename": "ModuleNotFoundError",
     "evalue": "No module named 'mysql'",
     "traceback": [
      "\u001b[1;31m---------------------------------------------------------------------------\u001b[0m",
      "\u001b[1;31mModuleNotFoundError\u001b[0m                       Traceback (most recent call last)",
      "\u001b[1;32m<ipython-input-3-49e720f1be5e>\u001b[0m in \u001b[0;36m<module>\u001b[1;34m\u001b[0m\n\u001b[0;32m      1\u001b[0m \u001b[1;31m# Module Imports\u001b[0m\u001b[1;33m\u001b[0m\u001b[1;33m\u001b[0m\u001b[1;33m\u001b[0m\u001b[0m\n\u001b[0;32m      2\u001b[0m \u001b[0mget_ipython\u001b[0m\u001b[1;33m(\u001b[0m\u001b[1;33m)\u001b[0m\u001b[1;33m.\u001b[0m\u001b[0msystem\u001b[0m\u001b[1;33m(\u001b[0m\u001b[1;34m'pip install mysql'\u001b[0m\u001b[1;33m)\u001b[0m\u001b[1;33m\u001b[0m\u001b[1;33m\u001b[0m\u001b[0m\n\u001b[1;32m----> 3\u001b[1;33m \u001b[1;32mimport\u001b[0m \u001b[0mmysql\u001b[0m\u001b[1;33m.\u001b[0m\u001b[0mconnector\u001b[0m \u001b[1;32mas\u001b[0m \u001b[0mmysql\u001b[0m\u001b[1;33m\u001b[0m\u001b[1;33m\u001b[0m\u001b[0m\n\u001b[0m\u001b[0;32m      4\u001b[0m \u001b[1;32mimport\u001b[0m \u001b[0msys\u001b[0m\u001b[1;33m\u001b[0m\u001b[1;33m\u001b[0m\u001b[0m\n\u001b[0;32m      5\u001b[0m \u001b[1;31m# Connect to MariaDB Platform\u001b[0m\u001b[1;33m\u001b[0m\u001b[1;33m\u001b[0m\u001b[1;33m\u001b[0m\u001b[0m\n",
      "\u001b[1;31mModuleNotFoundError\u001b[0m: No module named 'mysql'"
     ]
    }
   ],
   "metadata": {}
  },
  {
   "cell_type": "code",
   "execution_count": null,
   "source": [
    "# Download and unzip the database in the data/ folder\r\n",
    "# !wget -N -P data/ https://ludii.games/downloads/database.zip\r\n",
    "!unzip -q data/database.zip -d data/"
   ],
   "outputs": [
    {
     "output_type": "stream",
     "name": "stdout",
     "text": [
      "--2021-09-04 21:44:37--  https://ludii.games/downloads/database.zip\n",
      "Resolving ludii.games (ludii.games)... 137.120.31.51\n",
      "Connecting to ludii.games (ludii.games)|137.120.31.51|:443... connected.\n",
      "HTTP request sent, awaiting response... 304 Not Modified\n",
      "File ‘data/database.zip’ not modified on server. Omitting download.\n",
      "\n"
     ]
    }
   ],
   "metadata": {}
  },
  {
   "cell_type": "code",
   "execution_count": null,
   "source": [
    "# Load the .sql file in the mariadb database \r\n",
    "with open('data/database/ludiiGames.sql', 'r') as f:\r\n",
    "    cursor.execute(f.read(), multi=True)\r\n",
    "    conn.commit()"
   ],
   "outputs": [],
   "metadata": {}
  },
  {
   "cell_type": "code",
   "execution_count": null,
   "source": [
    "print(\"Tables in the database:\")\r\n",
    "cursor.execute('show tables;')\r\n",
    "records = cursor.fetchall()\r\n",
    "for i in records:\r\n",
    "    print(i)"
   ],
   "outputs": [],
   "metadata": {}
  },
  {
   "cell_type": "code",
   "execution_count": null,
   "source": [
    "# print('Number of associations in the database:')\r\n",
    "# cursor.execute('SELECT COUNT(*) FROM associations;')\r\n",
    "# records = cursor.fetchall()\r\n",
    "# for i in records:\r\n",
    "#     print(i)"
   ],
   "outputs": [],
   "metadata": {}
  },
  {
   "cell_type": "code",
   "execution_count": null,
   "source": [
    "# Generate RDF from the YARRRML mappings (output in output/ folder)\r\n",
    "# !./run_rmlmapper.sh mapping-ludeme.yarrr.yml"
   ],
   "outputs": [],
   "metadata": {}
  }
 ],
 "metadata": {
  "kernelspec": {
   "name": "python3",
   "display_name": "Python 3.9.1 64-bit"
  },
  "language_info": {
   "codemirror_mode": {
    "name": "ipython",
    "version": 3
   },
   "file_extension": ".py",
   "mimetype": "text/x-python",
   "name": "python",
   "nbconvert_exporter": "python",
   "pygments_lexer": "ipython3",
   "version": "3.9.1"
  },
  "metadata": {
   "interpreter": {
    "hash": "31f2aee4e71d21fbe5cf8b01ff0e069b9275f58929596ceb00d14d90e3e16cd6"
   }
  },
  "interpreter": {
   "hash": "57fbfda628a738e2d0811edeaca29d19de3b5b8e43d067c50c1a72b6bf24ea65"
  }
 },
 "nbformat": 4,
 "nbformat_minor": 5
}