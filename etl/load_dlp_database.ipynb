{
 "cells": [
  {
   "cell_type": "code",
   "execution_count": 13,
   "id": "c6a0d69d-54db-44fe-a4ba-3ce2b45367d5",
   "metadata": {},
   "outputs": [
    {
     "name": "stdout",
     "output_type": "stream",
     "text": [
      "Connected to  5.5.5-10.3.17-MariaDB\n",
      "You're connected to database:  ('dlp_database',)\n"
     ]
    }
   ],
   "source": [
    "# Module Imports\n",
    "import mysql.connector as mysql\n",
    "import sys\n",
    "# Connect to MariaDB Platform\n",
    "try:\n",
    "    conn = mysql.connect(\n",
    "        user=\"mariadb\",\n",
    "        password=\"ludiluda\",\n",
    "        host='mariadb',\n",
    "        port=3306,\n",
    "        database=\"ludiiGames\"\n",
    "    )\n",
    "except:\n",
    "    print(f\"Error connecting to MariaDB database\")\n",
    "    sys.exit(1)\n",
    "\n",
    "if conn.is_connected():\n",
    "    db_Info = conn.get_server_info()\n",
    "    print(\"Connected to \", db_Info)\n",
    "    cursor = conn.cursor()\n",
    "    cursor.execute(\"select database();\")\n",
    "    record = cursor.fetchone()\n",
    "    print(\"You're connected to the database: \", record)\n",
    "    \n",
    "# Get Cursor\n",
    "cursor = conn.cursor()"
   ]
  },
  {
   "cell_type": "code",
   "execution_count": 2,
   "metadata": {},
   "outputs": [
    {
     "output_type": "stream",
     "name": "stdout",
     "text": [
      "--2021-09-04 21:44:37--  https://ludii.games/downloads/database.zip\n",
      "Resolving ludii.games (ludii.games)... 137.120.31.51\n",
      "Connecting to ludii.games (ludii.games)|137.120.31.51|:443... connected.\n",
      "HTTP request sent, awaiting response... 304 Not Modified\n",
      "File ‘data/database.zip’ not modified on server. Omitting download.\n",
      "\n"
     ]
    }
   ],
   "source": [
    "# Download and unzip the database in the data/ folder\n",
    "# !wget -N -P data/ https://ludii.games/downloads/database.zip\n",
    "!unzip -q data/database.zip -d data/"
   ]
  },
  {
   "cell_type": "code",
   "execution_count": null,
   "id": "e8dd20ea-07b7-40a7-b06b-4770f48087be",
   "metadata": {},
   "outputs": [],
   "source": [
    "# Load the .sql file in the mariadb database \n",
    "with open('data/database/ludiiGames.sql', 'r') as f:\n",
    "    cursor.execute(f.read(), multi=True)\n",
    "    conn.commit()"
   ]
  },
  {
   "cell_type": "code",
   "execution_count": null,
   "metadata": {},
   "outputs": [],
   "source": [
    "print(\"Tables in the database:\")\n",
    "cursor.execute('show tables;')\n",
    "records = cursor.fetchall()\n",
    "for i in records:\n",
    "    print(i)"
   ]
  },
  {
   "cell_type": "code",
   "execution_count": null,
   "metadata": {},
   "outputs": [],
   "source": [
    "# print('Number of associations in the database:')\n",
    "# cursor.execute('SELECT COUNT(*) FROM associations;')\n",
    "# records = cursor.fetchall()\n",
    "# for i in records:\n",
    "#     print(i)"
   ]
  },
  {
   "cell_type": "code",
   "execution_count": null,
   "metadata": {},
   "outputs": [],
   "source": [
    "# Generate RDF from the YARRRML mappings (output in output/ folder)\n",
    "# !./run_rmlmapper.sh mapping-ludeme.yarrr.yml"
   ]
  }
 ],
 "metadata": {
  "kernelspec": {
   "name": "python369jvsc74a57bd031f2aee4e71d21fbe5cf8b01ff0e069b9275f58929596ceb00d14d90e3e16cd6",
   "display_name": "Python 3.6.9 64-bit"
  },
  "language_info": {
   "codemirror_mode": {
    "name": "ipython",
    "version": 3
   },
   "file_extension": ".py",
   "mimetype": "text/x-python",
   "name": "python",
   "nbconvert_exporter": "python",
   "pygments_lexer": "ipython3",
   "version": "3.6.9"
  },
  "metadata": {
   "interpreter": {
    "hash": "31f2aee4e71d21fbe5cf8b01ff0e069b9275f58929596ceb00d14d90e3e16cd6"
   }
  }
 },
 "nbformat": 4,
 "nbformat_minor": 5
}