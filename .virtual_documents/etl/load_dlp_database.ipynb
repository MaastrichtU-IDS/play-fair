# Module Imports
import mysql.connector as mysql
import sys
# Connect to MariaDB Platform
try:
    conn = mysql.connect(
        user="mariadb",
        password="ludiluda",
        host='mariadb',
        port=3306,
        database="ludiiGames"
    )
except:
    print(f"Error connecting to MariaDB database")
    sys.exit(1)

if conn.is_connected():
    db_Info = conn.get_server_info()
    print("Connected to ", db_Info)
    cursor = conn.cursor()
    cursor.execute("select database();")
    record = cursor.fetchone()
    print("You're connected to the database: ", record)
    
# Get Cursor
cursor = conn.cursor()





# Download and unzip the database in the data/ folder
# !wget -N -P data/ https://ludii.games/downloads/database.zip
get_ipython().getoutput("unzip -q data/database.zip -d data/")


# Load the .sql file in the mariadb database 
with open('data/ludiiGames.sql', 'r') as f:
    cursor.execute(f.read(), multi=True)
    conn.commit()


print("Tables in the database:")
cursor.execute('show tables;')
records = cursor.fetchall()
for i in records:
    print(i)


# print('Number of associations in the database:')
# cursor.execute('SELECT COUNT(*) FROM associations;')
# records = cursor.fetchall()
# for i in records:
#     print(i)


get_ipython().getoutput("pip install Unsupervised")


import Unsupervised.DataVisualisation as DataVisualisation
import Models.LearningModels as LearningModels
import Supervised.ModelTraining as ModelTraining
import Supervised.Regression as Regression
import Supervised.Regret as Regret
import Utils.FileHandling as FileHandling
import Utils.Preprocessing as Preprocessing
from sklearn.manifold import TSNE
